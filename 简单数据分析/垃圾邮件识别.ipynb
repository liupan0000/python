{
 "cells": [
  {
   "cell_type": "code",
   "execution_count": 2,
   "metadata": {},
   "outputs": [],
   "source": [
    "import numpy as np\n",
    "import pandas as pd\n",
    "from pandas import Series,DataFrame"
   ]
  },
  {
   "cell_type": "code",
   "execution_count": 3,
   "metadata": {},
   "outputs": [],
   "source": [
    "from sklearn.naive_bayes import MultinomialNB,BernoulliNB\n",
    "\n",
    "from sklearn.feature_extraction.text import TfidfVectorizer"
   ]
  },
  {
   "cell_type": "code",
   "execution_count": 5,
   "metadata": {
    "collapsed": true
   },
   "outputs": [
    {
     "data": {
      "text/html": [
       "<div>\n",
       "<style scoped>\n",
       "    .dataframe tbody tr th:only-of-type {\n",
       "        vertical-align: middle;\n",
       "    }\n",
       "\n",
       "    .dataframe tbody tr th {\n",
       "        vertical-align: top;\n",
       "    }\n",
       "\n",
       "    .dataframe thead th {\n",
       "        text-align: right;\n",
       "    }\n",
       "</style>\n",
       "<table border=\"1\" class=\"dataframe\">\n",
       "  <thead>\n",
       "    <tr style=\"text-align: right;\">\n",
       "      <th></th>\n",
       "      <th>0</th>\n",
       "    </tr>\n",
       "  </thead>\n",
       "  <tbody>\n",
       "    <tr>\n",
       "      <th>0</th>\n",
       "      <td>--- Codeine 15mg -- 30 for $203.70 -- VISA Onl...</td>\n",
       "    </tr>\n",
       "    <tr>\n",
       "      <th>1</th>\n",
       "      <td>-- Codeine (Methylmorphine) is a narcotic (opi...</td>\n",
       "    </tr>\n",
       "    <tr>\n",
       "      <th>2</th>\n",
       "      <td>-- We have 15mg &amp; 30mg pills -- 30/15mg for $2...</td>\n",
       "    </tr>\n",
       "  </tbody>\n",
       "</table>\n",
       "</div>"
      ],
      "text/plain": [
       "                                                   0\n",
       "0  --- Codeine 15mg -- 30 for $203.70 -- VISA Onl...\n",
       "1  -- Codeine (Methylmorphine) is a narcotic (opi...\n",
       "2  -- We have 15mg & 30mg pills -- 30/15mg for $2..."
      ]
     },
     "execution_count": 5,
     "metadata": {},
     "output_type": "execute_result"
    }
   ],
   "source": [
    "\n",
    "pd.read_csv('email/spam/1.txt',header=None)"
   ]
  },
  {
   "cell_type": "code",
   "execution_count": 6,
   "metadata": {},
   "outputs": [],
   "source": [
    "#读取思路：每一个txt文件作为一个样本\n",
    "with open('email/spam/1.txt','r',encoding='utf-8') as fp:\n",
    "    message=fp.read()"
   ]
  },
  {
   "cell_type": "code",
   "execution_count": 7,
   "metadata": {
    "collapsed": true
   },
   "outputs": [
    {
     "name": "stdout",
     "output_type": "stream",
     "text": [
      "--- Codeine 15mg -- 30 for $203.70 -- VISA Only!!! --\n",
      "\n",
      "-- Codeine (Methylmorphine) is a narcotic (opioid) pain reliever\n",
      "-- We have 15mg & 30mg pills -- 30/15mg for $203.70 - 60/15mg for $385.80 - 90/15mg for $562.50 -- VISA Only!!! ---\n"
     ]
    }
   ],
   "source": [
    "print(message)"
   ]
  },
  {
   "cell_type": "code",
   "execution_count": 20,
   "metadata": {},
   "outputs": [],
   "source": [
    "def read_data(filepath):\n",
    "    with open(filepath,\"r\",errors=\"ignore\") as fp:\n",
    "        return fp.read()"
   ]
  },
  {
   "cell_type": "code",
   "execution_count": 21,
   "metadata": {},
   "outputs": [],
   "source": [
    "train =[]\n",
    "target =[]"
   ]
  },
  {
   "cell_type": "code",
   "execution_count": 22,
   "metadata": {},
   "outputs": [],
   "source": [
    "def load_data(categray):\n",
    "    for i in range(1,26):\n",
    "        filepath=\"email/{}/{}.txt\".format(categray,i)\n",
    "        message=read_data(filepath)\n",
    "        train.append(message)\n",
    "        target.append(categray)"
   ]
  },
  {
   "cell_type": "code",
   "execution_count": 23,
   "metadata": {},
   "outputs": [],
   "source": [
    "kinds = [\"ham\",\"spam\"]\n",
    "for kind in kinds:\n",
    "    load_data(kind)"
   ]
  },
  {
   "cell_type": "code",
   "execution_count": 24,
   "metadata": {
    "scrolled": true
   },
   "outputs": [
    {
     "data": {
      "text/plain": [
       "(50, 50)"
      ]
     },
     "execution_count": 24,
     "metadata": {},
     "output_type": "execute_result"
    }
   ],
   "source": [
    "len(train),len(target)"
   ]
  },
  {
   "cell_type": "code",
   "execution_count": 26,
   "metadata": {},
   "outputs": [],
   "source": [
    "samples = DataFrame({\n",
    "    \"content\":train,\n",
    "    \"target\":target\n",
    "})"
   ]
  },
  {
   "cell_type": "code",
   "execution_count": 27,
   "metadata": {
    "collapsed": true
   },
   "outputs": [
    {
     "data": {
      "text/html": [
       "<div>\n",
       "<style scoped>\n",
       "    .dataframe tbody tr th:only-of-type {\n",
       "        vertical-align: middle;\n",
       "    }\n",
       "\n",
       "    .dataframe tbody tr th {\n",
       "        vertical-align: top;\n",
       "    }\n",
       "\n",
       "    .dataframe thead th {\n",
       "        text-align: right;\n",
       "    }\n",
       "</style>\n",
       "<table border=\"1\" class=\"dataframe\">\n",
       "  <thead>\n",
       "    <tr style=\"text-align: right;\">\n",
       "      <th></th>\n",
       "      <th>content</th>\n",
       "      <th>target</th>\n",
       "    </tr>\n",
       "  </thead>\n",
       "  <tbody>\n",
       "    <tr>\n",
       "      <th>0</th>\n",
       "      <td>Hi Peter,\\n\\nWith Jose out of town, do you wan...</td>\n",
       "      <td>ham</td>\n",
       "    </tr>\n",
       "    <tr>\n",
       "      <th>1</th>\n",
       "      <td>Yay to you both doing fine!\\n\\nI'm working on ...</td>\n",
       "      <td>ham</td>\n",
       "    </tr>\n",
       "    <tr>\n",
       "      <th>2</th>\n",
       "      <td>WHat is going on there?\\nI talked to John on e...</td>\n",
       "      <td>ham</td>\n",
       "    </tr>\n",
       "    <tr>\n",
       "      <th>3</th>\n",
       "      <td>Yo.  I've been working on my running website. ...</td>\n",
       "      <td>ham</td>\n",
       "    </tr>\n",
       "    <tr>\n",
       "      <th>4</th>\n",
       "      <td>There was a guy at the gas station who told me...</td>\n",
       "      <td>ham</td>\n",
       "    </tr>\n",
       "    <tr>\n",
       "      <th>5</th>\n",
       "      <td>Hello,\\n\\nSince you are an owner of at least o...</td>\n",
       "      <td>ham</td>\n",
       "    </tr>\n",
       "    <tr>\n",
       "      <th>6</th>\n",
       "      <td>Zach Hamm commented on your status.\\n\\nZach wr...</td>\n",
       "      <td>ham</td>\n",
       "    </tr>\n",
       "    <tr>\n",
       "      <th>7</th>\n",
       "      <td>This e-mail was sent from a notification-only ...</td>\n",
       "      <td>ham</td>\n",
       "    </tr>\n",
       "    <tr>\n",
       "      <th>8</th>\n",
       "      <td>Hi Peter,\\n\\nThese are the only good scenic on...</td>\n",
       "      <td>ham</td>\n",
       "    </tr>\n",
       "    <tr>\n",
       "      <th>9</th>\n",
       "      <td>Ryan Whybrew commented on your status.\\n\\nRyan...</td>\n",
       "      <td>ham</td>\n",
       "    </tr>\n",
       "    <tr>\n",
       "      <th>10</th>\n",
       "      <td>Arvind Thirumalai commented on your status.\\n\\...</td>\n",
       "      <td>ham</td>\n",
       "    </tr>\n",
       "    <tr>\n",
       "      <th>11</th>\n",
       "      <td>Thanks Peter.\\n\\nI'll definitely check in on t...</td>\n",
       "      <td>ham</td>\n",
       "    </tr>\n",
       "    <tr>\n",
       "      <th>12</th>\n",
       "      <td>Jay Stepp commented on your status.\\n\\nJay wro...</td>\n",
       "      <td>ham</td>\n",
       "    </tr>\n",
       "    <tr>\n",
       "      <th>13</th>\n",
       "      <td>LinkedIn\\n\\nKerry Haloney requested to add you...</td>\n",
       "      <td>ham</td>\n",
       "    </tr>\n",
       "    <tr>\n",
       "      <th>14</th>\n",
       "      <td>Hi Peter,\\n \\nThe hotels are the ones that ren...</td>\n",
       "      <td>ham</td>\n",
       "    </tr>\n",
       "    <tr>\n",
       "      <th>15</th>\n",
       "      <td>yeah I am ready.  I may not be here because Ja...</td>\n",
       "      <td>ham</td>\n",
       "    </tr>\n",
       "    <tr>\n",
       "      <th>16</th>\n",
       "      <td>Benoit Mandelbrot 1924-2010\\n\\nBenoit Mandelbr...</td>\n",
       "      <td>ham</td>\n",
       "    </tr>\n",
       "    <tr>\n",
       "      <th>17</th>\n",
       "      <td>Hi Peter,\\n\\n    Sure thing.  Sounds good.  Le...</td>\n",
       "      <td>ham</td>\n",
       "    </tr>\n",
       "    <tr>\n",
       "      <th>18</th>\n",
       "      <td>LinkedIn\\n\\nJulius O requested to add you as a...</td>\n",
       "      <td>ham</td>\n",
       "    </tr>\n",
       "    <tr>\n",
       "      <th>19</th>\n",
       "      <td>I've thought about this and think it's possibl...</td>\n",
       "      <td>ham</td>\n",
       "    </tr>\n",
       "    <tr>\n",
       "      <th>20</th>\n",
       "      <td>we saw this on the way to the coast...thought ...</td>\n",
       "      <td>ham</td>\n",
       "    </tr>\n",
       "    <tr>\n",
       "      <th>21</th>\n",
       "      <td>Hi Hommies,\\n\\nJust got a phone call from the ...</td>\n",
       "      <td>ham</td>\n",
       "    </tr>\n",
       "    <tr>\n",
       "      <th>22</th>\n",
       "      <td>\\nSciFinance now automatically generates GPU-e...</td>\n",
       "      <td>ham</td>\n",
       "    </tr>\n",
       "    <tr>\n",
       "      <th>23</th>\n",
       "      <td>Ok I will be there by 10:00 at the latest.</td>\n",
       "      <td>ham</td>\n",
       "    </tr>\n",
       "    <tr>\n",
       "      <th>24</th>\n",
       "      <td>That is cold.  Is there going to be a retireme...</td>\n",
       "      <td>ham</td>\n",
       "    </tr>\n",
       "    <tr>\n",
       "      <th>25</th>\n",
       "      <td>--- Codeine 15mg -- 30 for $203.70 -- VISA Onl...</td>\n",
       "      <td>spam</td>\n",
       "    </tr>\n",
       "    <tr>\n",
       "      <th>26</th>\n",
       "      <td>Hydrocodone/Vicodin ES/Brand Watson\\n\\nVicodin...</td>\n",
       "      <td>spam</td>\n",
       "    </tr>\n",
       "    <tr>\n",
       "      <th>27</th>\n",
       "      <td>You Have Everything To Gain!\\n\\nIncredib1e gai...</td>\n",
       "      <td>spam</td>\n",
       "    </tr>\n",
       "    <tr>\n",
       "      <th>28</th>\n",
       "      <td>Percocet 10/625 mg withoutPrescription 30 tabs...</td>\n",
       "      <td>spam</td>\n",
       "    </tr>\n",
       "    <tr>\n",
       "      <th>29</th>\n",
       "      <td>--- Codeine 15mg -- 30 for $203.70 -- VISA Onl...</td>\n",
       "      <td>spam</td>\n",
       "    </tr>\n",
       "    <tr>\n",
       "      <th>30</th>\n",
       "      <td>OEM Adobe &amp; Microsoft softwares\\nFast order an...</td>\n",
       "      <td>spam</td>\n",
       "    </tr>\n",
       "    <tr>\n",
       "      <th>31</th>\n",
       "      <td>Bargains Here! Buy Phentermin 37.5 mg (K-25)\\n...</td>\n",
       "      <td>spam</td>\n",
       "    </tr>\n",
       "    <tr>\n",
       "      <th>32</th>\n",
       "      <td>You Have Everything To Gain!\\n\\nIncredib1e gai...</td>\n",
       "      <td>spam</td>\n",
       "    </tr>\n",
       "    <tr>\n",
       "      <th>33</th>\n",
       "      <td>Bargains Here! Buy Phentermin 37.5 mg (K-25)\\n...</td>\n",
       "      <td>spam</td>\n",
       "    </tr>\n",
       "    <tr>\n",
       "      <th>34</th>\n",
       "      <td>OrderCializViagra Online &amp; Save 75-90%\\n\\n0nli...</td>\n",
       "      <td>spam</td>\n",
       "    </tr>\n",
       "    <tr>\n",
       "      <th>35</th>\n",
       "      <td>You Have Everything To Gain!\\n\\nIncredib1e gai...</td>\n",
       "      <td>spam</td>\n",
       "    </tr>\n",
       "    <tr>\n",
       "      <th>36</th>\n",
       "      <td>Buy Ambiem (Zolpidem) 5mg/10mg @ $2.39/- pill\\...</td>\n",
       "      <td>spam</td>\n",
       "    </tr>\n",
       "    <tr>\n",
       "      <th>37</th>\n",
       "      <td>OrderCializViagra Online &amp; Save 75-90%\\n\\n0nli...</td>\n",
       "      <td>spam</td>\n",
       "    </tr>\n",
       "    <tr>\n",
       "      <th>38</th>\n",
       "      <td>BuyVIAGRA 25mg, 50mg, 100mg,\\nBrandViagra, Fem...</td>\n",
       "      <td>spam</td>\n",
       "    </tr>\n",
       "    <tr>\n",
       "      <th>39</th>\n",
       "      <td>You Have Everything To Gain!\\n\\nIncredib1e gai...</td>\n",
       "      <td>spam</td>\n",
       "    </tr>\n",
       "    <tr>\n",
       "      <th>40</th>\n",
       "      <td>You Have Everything To Gain!\\n\\nIncredib1e gai...</td>\n",
       "      <td>spam</td>\n",
       "    </tr>\n",
       "    <tr>\n",
       "      <th>41</th>\n",
       "      <td>A home based business opportunity is knocking ...</td>\n",
       "      <td>spam</td>\n",
       "    </tr>\n",
       "    <tr>\n",
       "      <th>42</th>\n",
       "      <td>Codeine (the most competitive price on NET!)\\n...</td>\n",
       "      <td>spam</td>\n",
       "    </tr>\n",
       "    <tr>\n",
       "      <th>43</th>\n",
       "      <td>Get Up to 75% OFF at Online WatchesStore\\n\\nDi...</td>\n",
       "      <td>spam</td>\n",
       "    </tr>\n",
       "    <tr>\n",
       "      <th>44</th>\n",
       "      <td>Get Up to 75% OFF at Online WatchesStore\\n\\nDi...</td>\n",
       "      <td>spam</td>\n",
       "    </tr>\n",
       "    <tr>\n",
       "      <th>45</th>\n",
       "      <td>Percocet 10/625 mg withoutPrescription 30 tabs...</td>\n",
       "      <td>spam</td>\n",
       "    </tr>\n",
       "    <tr>\n",
       "      <th>46</th>\n",
       "      <td>Get Up to 75% OFF at Online WatchesStore\\n\\nDi...</td>\n",
       "      <td>spam</td>\n",
       "    </tr>\n",
       "    <tr>\n",
       "      <th>47</th>\n",
       "      <td>You Have Everything To Gain!\\n\\nIncredib1e gai...</td>\n",
       "      <td>spam</td>\n",
       "    </tr>\n",
       "    <tr>\n",
       "      <th>48</th>\n",
       "      <td>You Have Everything To Gain!\\n\\nIncredib1e gai...</td>\n",
       "      <td>spam</td>\n",
       "    </tr>\n",
       "    <tr>\n",
       "      <th>49</th>\n",
       "      <td>Experience with BiggerPenis Today! Grow 3-inch...</td>\n",
       "      <td>spam</td>\n",
       "    </tr>\n",
       "  </tbody>\n",
       "</table>\n",
       "</div>"
      ],
      "text/plain": [
       "                                              content target\n",
       "0   Hi Peter,\\n\\nWith Jose out of town, do you wan...    ham\n",
       "1   Yay to you both doing fine!\\n\\nI'm working on ...    ham\n",
       "2   WHat is going on there?\\nI talked to John on e...    ham\n",
       "3   Yo.  I've been working on my running website. ...    ham\n",
       "4   There was a guy at the gas station who told me...    ham\n",
       "5   Hello,\\n\\nSince you are an owner of at least o...    ham\n",
       "6   Zach Hamm commented on your status.\\n\\nZach wr...    ham\n",
       "7   This e-mail was sent from a notification-only ...    ham\n",
       "8   Hi Peter,\\n\\nThese are the only good scenic on...    ham\n",
       "9   Ryan Whybrew commented on your status.\\n\\nRyan...    ham\n",
       "10  Arvind Thirumalai commented on your status.\\n\\...    ham\n",
       "11  Thanks Peter.\\n\\nI'll definitely check in on t...    ham\n",
       "12  Jay Stepp commented on your status.\\n\\nJay wro...    ham\n",
       "13  LinkedIn\\n\\nKerry Haloney requested to add you...    ham\n",
       "14  Hi Peter,\\n \\nThe hotels are the ones that ren...    ham\n",
       "15  yeah I am ready.  I may not be here because Ja...    ham\n",
       "16  Benoit Mandelbrot 1924-2010\\n\\nBenoit Mandelbr...    ham\n",
       "17  Hi Peter,\\n\\n    Sure thing.  Sounds good.  Le...    ham\n",
       "18  LinkedIn\\n\\nJulius O requested to add you as a...    ham\n",
       "19  I've thought about this and think it's possibl...    ham\n",
       "20  we saw this on the way to the coast...thought ...    ham\n",
       "21  Hi Hommies,\\n\\nJust got a phone call from the ...    ham\n",
       "22  \\nSciFinance now automatically generates GPU-e...    ham\n",
       "23         Ok I will be there by 10:00 at the latest.    ham\n",
       "24  That is cold.  Is there going to be a retireme...    ham\n",
       "25  --- Codeine 15mg -- 30 for $203.70 -- VISA Onl...   spam\n",
       "26  Hydrocodone/Vicodin ES/Brand Watson\\n\\nVicodin...   spam\n",
       "27  You Have Everything To Gain!\\n\\nIncredib1e gai...   spam\n",
       "28  Percocet 10/625 mg withoutPrescription 30 tabs...   spam\n",
       "29  --- Codeine 15mg -- 30 for $203.70 -- VISA Onl...   spam\n",
       "30  OEM Adobe & Microsoft softwares\\nFast order an...   spam\n",
       "31  Bargains Here! Buy Phentermin 37.5 mg (K-25)\\n...   spam\n",
       "32  You Have Everything To Gain!\\n\\nIncredib1e gai...   spam\n",
       "33  Bargains Here! Buy Phentermin 37.5 mg (K-25)\\n...   spam\n",
       "34  OrderCializViagra Online & Save 75-90%\\n\\n0nli...   spam\n",
       "35  You Have Everything To Gain!\\n\\nIncredib1e gai...   spam\n",
       "36  Buy Ambiem (Zolpidem) 5mg/10mg @ $2.39/- pill\\...   spam\n",
       "37  OrderCializViagra Online & Save 75-90%\\n\\n0nli...   spam\n",
       "38  BuyVIAGRA 25mg, 50mg, 100mg,\\nBrandViagra, Fem...   spam\n",
       "39  You Have Everything To Gain!\\n\\nIncredib1e gai...   spam\n",
       "40  You Have Everything To Gain!\\n\\nIncredib1e gai...   spam\n",
       "41  A home based business opportunity is knocking ...   spam\n",
       "42  Codeine (the most competitive price on NET!)\\n...   spam\n",
       "43  Get Up to 75% OFF at Online WatchesStore\\n\\nDi...   spam\n",
       "44  Get Up to 75% OFF at Online WatchesStore\\n\\nDi...   spam\n",
       "45  Percocet 10/625 mg withoutPrescription 30 tabs...   spam\n",
       "46  Get Up to 75% OFF at Online WatchesStore\\n\\nDi...   spam\n",
       "47  You Have Everything To Gain!\\n\\nIncredib1e gai...   spam\n",
       "48  You Have Everything To Gain!\\n\\nIncredib1e gai...   spam\n",
       "49  Experience with BiggerPenis Today! Grow 3-inch...   spam"
      ]
     },
     "execution_count": 27,
     "metadata": {},
     "output_type": "execute_result"
    }
   ],
   "source": [
    "samples"
   ]
  },
  {
   "cell_type": "code",
   "execution_count": 28,
   "metadata": {},
   "outputs": [],
   "source": [
    "#样本集\n",
    "X = samples[\"content\"]\n",
    "y = samples[\"target\"]"
   ]
  },
  {
   "cell_type": "code",
   "execution_count": 29,
   "metadata": {},
   "outputs": [],
   "source": [
    "tf = TfidfVectorizer()\n",
    "tf_X = tf.fit_transform(X)"
   ]
  },
  {
   "cell_type": "code",
   "execution_count": 30,
   "metadata": {
    "collapsed": true
   },
   "outputs": [
    {
     "data": {
      "text/plain": [
       "<50x748 sparse matrix of type '<class 'numpy.float64'>'\n",
       "\twith 1669 stored elements in Compressed Sparse Row format>"
      ]
     },
     "execution_count": 30,
     "metadata": {},
     "output_type": "execute_result"
    }
   ],
   "source": [
    "tf_X"
   ]
  },
  {
   "cell_type": "code",
   "execution_count": 31,
   "metadata": {},
   "outputs": [],
   "source": [
    "from sklearn.model_selection import train_test_split"
   ]
  },
  {
   "cell_type": "code",
   "execution_count": 32,
   "metadata": {},
   "outputs": [],
   "source": [
    "X_train,X_test,y_train,y_test = train_test_split(tf_X,y,test_size=0.20)"
   ]
  },
  {
   "cell_type": "code",
   "execution_count": 34,
   "metadata": {
    "collapsed": true
   },
   "outputs": [
    {
     "data": {
      "text/plain": [
       "MultinomialNB(alpha=1.0, class_prior=None, fit_prior=True)"
      ]
     },
     "execution_count": 34,
     "metadata": {},
     "output_type": "execute_result"
    }
   ],
   "source": [
    "mnb = MultinomialNB()\n",
    "mnb.fit(X_train,y_train)"
   ]
  },
  {
   "cell_type": "code",
   "execution_count": 37,
   "metadata": {},
   "outputs": [],
   "source": [
    "s1 = mnb.score(X_train,y_train)"
   ]
  },
  {
   "cell_type": "code",
   "execution_count": 38,
   "metadata": {},
   "outputs": [],
   "source": [
    "s2 = mnb.score(X_test,y_test)"
   ]
  },
  {
   "cell_type": "code",
   "execution_count": 43,
   "metadata": {
    "scrolled": true
   },
   "outputs": [
    {
     "name": "stdout",
     "output_type": "stream",
     "text": [
      "经验得分：1.0，测试集得分0.9\n"
     ]
    }
   ],
   "source": [
    "print(\"经验得分：{}，测试集得分{}\".format(s1,s2))"
   ]
  },
  {
   "cell_type": "code",
   "execution_count": 49,
   "metadata": {
    "collapsed": true
   },
   "outputs": [
    {
     "name": "stdout",
     "output_type": "stream",
     "text": [
      "经验得分：1.0，测试集得分0.9\n"
     ]
    }
   ],
   "source": [
    "bnb = BernoulliNB()\n",
    "bnb.fit(X_train,y_train)\n",
    "s1 = bnb.score(X_train,y_train)\n",
    "s2 =bnb.score(X_test,y_test)\n",
    "print(\"经验得分：{}，测试集得分{}\".format(s1,s2))"
   ]
  }
 ],
 "metadata": {
  "kernelspec": {
   "display_name": "Python 3",
   "language": "python",
   "name": "python3"
  },
  "language_info": {
   "codemirror_mode": {
    "name": "ipython",
    "version": 3
   },
   "file_extension": ".py",
   "mimetype": "text/x-python",
   "name": "python",
   "nbconvert_exporter": "python",
   "pygments_lexer": "ipython3",
   "version": "3.6.4"
  }
 },
 "nbformat": 4,
 "nbformat_minor": 2
}
